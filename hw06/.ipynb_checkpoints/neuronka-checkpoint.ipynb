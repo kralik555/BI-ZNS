{
 "cells": [
  {
   "cell_type": "code",
   "execution_count": 1,
   "id": "dcf2fd6a-a919-4bd3-a828-3ecd2397964b",
   "metadata": {},
   "outputs": [
    {
     "name": "stderr",
     "output_type": "stream",
     "text": [
      "2023-12-11 09:48:16.830187: I tensorflow/core/util/port.cc:113] oneDNN custom operations are on. You may see slightly different numerical results due to floating-point round-off errors from different computation orders. To turn them off, set the environment variable `TF_ENABLE_ONEDNN_OPTS=0`.\n",
      "2023-12-11 09:48:16.855396: E external/local_xla/xla/stream_executor/cuda/cuda_dnn.cc:9261] Unable to register cuDNN factory: Attempting to register factory for plugin cuDNN when one has already been registered\n",
      "2023-12-11 09:48:16.855419: E external/local_xla/xla/stream_executor/cuda/cuda_fft.cc:607] Unable to register cuFFT factory: Attempting to register factory for plugin cuFFT when one has already been registered\n",
      "2023-12-11 09:48:16.856070: E external/local_xla/xla/stream_executor/cuda/cuda_blas.cc:1515] Unable to register cuBLAS factory: Attempting to register factory for plugin cuBLAS when one has already been registered\n",
      "2023-12-11 09:48:16.860246: I tensorflow/core/platform/cpu_feature_guard.cc:182] This TensorFlow binary is optimized to use available CPU instructions in performance-critical operations.\n",
      "To enable the following instructions: AVX2 AVX512F AVX512_VNNI FMA, in other operations, rebuild TensorFlow with the appropriate compiler flags.\n",
      "2023-12-11 09:48:17.459011: W tensorflow/compiler/tf2tensorrt/utils/py_utils.cc:38] TF-TRT Warning: Could not find TensorRT\n"
     ]
    }
   ],
   "source": [
    "from sklearn.datasets import load_digits\n",
    "import pandas as pd\n",
    "import matplotlib.pyplot as plt\n",
    "import tensorflow as tf\n",
    "from tensorflow.keras.models import Sequential\n",
    "from tensorflow.keras.layers import Dense\n",
    "from sklearn.model_selection import train_test_split\n",
    "from tensorflow.keras.utils import to_categorical"
   ]
  },
  {
   "cell_type": "markdown",
   "id": "3bf18b6d-8d0d-422d-b460-280426f56988",
   "metadata": {},
   "source": [
    "Jako první jsme načetli veškeré potřebné knihovny a nyní můžeme načíst dataset."
   ]
  },
  {
   "cell_type": "code",
   "execution_count": 2,
   "id": "a2c1df7e-6647-4ed1-b489-c4c1204b3ff4",
   "metadata": {},
   "outputs": [
    {
     "data": {
      "text/plain": [
       "1797"
      ]
     },
     "execution_count": 2,
     "metadata": {},
     "output_type": "execute_result"
    }
   ],
   "source": [
    "digits = load_digits()\n",
    "len(digits.target)"
   ]
  },
  {
   "cell_type": "code",
   "execution_count": 3,
   "id": "b1b32466-675e-456e-adec-101fc9e05590",
   "metadata": {},
   "outputs": [
    {
     "data": {
      "text/plain": [
       "array([0, 1, 2, ..., 8, 9, 8])"
      ]
     },
     "execution_count": 3,
     "metadata": {},
     "output_type": "execute_result"
    }
   ],
   "source": [
    "digits.target"
   ]
  },
  {
   "cell_type": "markdown",
   "id": "2cf65c80-b144-4597-b704-cd216e23ded5",
   "metadata": {},
   "source": [
    "Podíváme se na obrázek nějakého čísla "
   ]
  },
  {
   "cell_type": "code",
   "execution_count": 4,
   "id": "839f749b-e8a6-43bb-bfe1-7a2e96de1e58",
   "metadata": {},
   "outputs": [
    {
     "data": {
      "text/plain": [
       "<Figure size 640x480 with 0 Axes>"
      ]
     },
     "metadata": {},
     "output_type": "display_data"
    },
    {
     "data": {
      "image/png": "[encoded data removed]",
      "text/plain": [
       "<Figure size 480x480 with 1 Axes>"
      ]
     },
     "metadata": {},
     "output_type": "display_data"
    }
   ],
   "source": [
    "plt.gray()\n",
    "plt.matshow(digits.images[3])\n",
    "plt.show()"
   ]
  },
  {
   "cell_type": "markdown",
   "id": "a2c77893-d0d8-4634-b6ed-5e8359fcfb23",
   "metadata": {},
   "source": [
    "Nyní můžeme rozdělit data na trénovací, validační a testovací."
   ]
  },
  {
   "cell_type": "code",
   "execution_count": 5,
   "id": "caea5a15-bd97-403d-a42f-202c1778096e",
   "metadata": {},
   "outputs": [],
   "source": [
    "X = pd.DataFrame(digits.data)\n",
    "y = digits.target\n",
    "y = to_categorical(y, num_classes=10)\n",
    "X_train, X_test, y_train, y_test = train_test_split(X, y, test_size=0.4)\n",
    "\n",
    "X_val, X_test, y_val, y_test = train_test_split(X_test, y_test, test_size = 0.5)"
   ]
  },
  {
   "cell_type": "markdown",
   "id": "f8cfbc41-5f04-4238-b8e8-24c3ac2baf3d",
   "metadata": {},
   "source": [
    "Vytvoříme funkci pro vytváření neuronové sítě a poté i několik různých konfigurací, které vyzkoušíme použít."
   ]
  },
  {
   "cell_type": "code",
   "execution_count": 9,
   "id": "abab72f1-7b76-4dd6-8e76-25b6e1b0e800",
   "metadata": {},
   "outputs": [],
   "source": [
    "def create_model(num_layers, neurons_per_layer, input_shape, num_classes):\n",
    "    model = Sequential()\n",
    "    model.add(Dense(neurons_per_layer[0], input_shape=input_shape, activation='relu'))\n",
    "    for i in range(1, num_layers):\n",
    "        model.add(Dense(neurons_per_layer[i], activation='relu'))\n",
    "    model.add(Dense(num_classes, activation='softmax'))\n",
    "    model.compile(optimizer='adam', loss='categorical_crossentropy', metrics=['accuracy'])\n",
    "    return model"
   ]
  },
  {
   "cell_type": "code",
   "execution_count": 10,
   "id": "1c3bd688-dc0c-49dc-9178-1e1932e34881",
   "metadata": {},
   "outputs": [],
   "source": [
    "configurations = [\n",
    "    {'num_layers': 4, 'neurons_per_layer': [128, 128, 64, 32]},\n",
    "    {'num_layers': 4, 'neurons_per_layer': [64, 64, 32, 32]},\n",
    "    {'num_layers': 3, 'neurons_per_layer': [128, 64, 32]},\n",
    "    {'num_layers': 3, 'neurons_per_layer': [128, 128, 64]},\n",
    "    {'num_layers': 3, 'neurons_per_layer': [64, 64, 32]},\n",
    "    {'num_layers': 2, 'neurons_per_layer': [128, 64]},\n",
    "    {'num_layers': 2, 'neurons_per_layer': [64, 32]},\n",
    "    {'num_layers': 2, 'neurons_per_layer': [64, 64]},\n",
    "    {'num_layers': 1, 'neurons_per_layer': [64]},\n",
    "    {'num_layers': 1, 'neurons_per_layer': [128]}\n",
    "]"
   ]
  },
  {
   "cell_type": "markdown",
   "id": "ef7b3df2-9c2c-4e5a-911b-553bb4e413f0",
   "metadata": {},
   "source": [
    "Nyní můžeme všechny modely natrénovat a najít ten nejlepší."
   ]
  },
  {
   "cell_type": "code",
   "execution_count": 14,
   "id": "47346518-5917-4f79-a54d-126913edb2c0",
   "metadata": {},
   "outputs": [
    {
     "name": "stdout",
     "output_type": "stream",
     "text": [
      "12/12 [==============================] - 0s 904us/step - loss: 0.0740 - accuracy: 0.9833\n",
      "Model with config {'num_layers': 4, 'neurons_per_layer': [128, 128, 64, 32]} has accuracy: 0.9832869172096252\n",
      "12/12 [==============================] - 0s 853us/step - loss: 0.1068 - accuracy: 0.9721\n",
      "Model with config {'num_layers': 4, 'neurons_per_layer': [64, 64, 32, 32]} has accuracy: 0.9721448421478271\n",
      "12/12 [==============================] - 0s 904us/step - loss: 0.0577 - accuracy: 0.9833\n",
      "Model with config {'num_layers': 3, 'neurons_per_layer': [128, 64, 32]} has accuracy: 0.9832869172096252\n",
      "12/12 [==============================] - 0s 840us/step - loss: 0.0824 - accuracy: 0.9805\n",
      "Model with config {'num_layers': 3, 'neurons_per_layer': [128, 128, 64]} has accuracy: 0.9805014133453369\n",
      "12/12 [==============================] - 0s 881us/step - loss: 0.1057 - accuracy: 0.9721\n",
      "Model with config {'num_layers': 3, 'neurons_per_layer': [64, 64, 32]} has accuracy: 0.9721448421478271\n",
      "12/12 [==============================] - 0s 802us/step - loss: 0.0650 - accuracy: 0.9833\n",
      "Model with config {'num_layers': 2, 'neurons_per_layer': [128, 64]} has accuracy: 0.9832869172096252\n",
      "12/12 [==============================] - 0s 757us/step - loss: 0.1452 - accuracy: 0.9582\n",
      "Model with config {'num_layers': 2, 'neurons_per_layer': [64, 32]} has accuracy: 0.9582172632217407\n",
      "12/12 [==============================] - 0s 838us/step - loss: 0.0947 - accuracy: 0.9694\n",
      "Model with config {'num_layers': 2, 'neurons_per_layer': [64, 64]} has accuracy: 0.9693593382835388\n",
      "12/12 [==============================] - 0s 763us/step - loss: 0.1137 - accuracy: 0.9610\n",
      "Model with config {'num_layers': 1, 'neurons_per_layer': [64]} has accuracy: 0.961002767086029\n",
      "12/12 [==============================] - 0s 791us/step - loss: 0.0706 - accuracy: 0.9749\n",
      "Model with config {'num_layers': 1, 'neurons_per_layer': [128]} has accuracy: 0.9749303460121155\n"
     ]
    }
   ],
   "source": [
    "best_model = None\n",
    "best_accuracy = 0\n",
    "best_config = None\n",
    "for config in configurations:\n",
    "    model = create_model(config['num_layers'], config['neurons_per_layer'], X_train.shape[1:], 10)\n",
    "    model.fit(X_train, y_train, epochs=20, batch_size=32, verbose=0)\n",
    "    loss, accuracy = model.evaluate(X_val, y_val)\n",
    "    print(f\"Model with config {config} has accuracy: {accuracy}\")\n",
    "\n",
    "    if accuracy > best_accuracy:\n",
    "        best_accuracy = accuracy\n",
    "        best_model = model\n",
    "        best_config = config"
   ]
  },
  {
   "cell_type": "code",
   "execution_count": 15,
   "id": "8d26ec47-bc92-45ce-84e6-e9da85e077bb",
   "metadata": {},
   "outputs": [
    {
     "name": "stdout",
     "output_type": "stream",
     "text": [
      "12/12 [==============================] - 0s 749us/step - loss: 0.1362 - accuracy: 0.9667\n",
      "Test Accuracy: 96.67%\n"
     ]
    }
   ],
   "source": [
    "loss, accuracy = model.evaluate(X_test, y_test)\n",
    "print(f\"Test Accuracy: {accuracy*100:.2f}%\")"
   ]
  },
  {
   "cell_type": "code",
   "execution_count": 16,
   "id": "120f0c51-a257-4431-9e41-96bea2889cdf",
   "metadata": {},
   "outputs": [
    {
     "data": {
      "text/plain": [
       "{'num_layers': 4, 'neurons_per_layer': [128, 128, 64, 32]}"
      ]
     },
     "execution_count": 16,
     "metadata": {},
     "output_type": "execute_result"
    }
   ],
   "source": [
    "best_config"
   ]
  },
  {
   "cell_type": "markdown",
   "id": "0e80b5f4-1e12-4154-9b60-51b2313ed028",
   "metadata": {},
   "source": [
    "Vypadá to, že nejlepší model má 4 vrstvy (jednu vstupní a tři hidden) s počty neuronů postupně 128, 128, 64 a 32 a úspěšnost sítě na testovacím datasetu je 96,67 %"
   ]
  },
  {
   "cell_type": "code",
   "execution_count": null,
   "id": "554c499d-2cf5-413f-a640-4e86c1de9c92",
   "metadata": {},
   "outputs": [],
   "source": []
  }
 ],
 "metadata": {
  "kernelspec": {
   "display_name": "Python 3 (ipykernel)",
   "language": "python",
   "name": "python3"
  },
  "language_info": {
   "codemirror_mode": {
    "name": "ipython",
    "version": 3
   },
   "file_extension": ".py",
   "mimetype": "text/x-python",
   "name": "python",
   "nbconvert_exporter": "python",
   "pygments_lexer": "ipython3",
   "version": "3.10.12"
  }
 },
 "nbformat": 4,
 "nbformat_minor": 5
}
