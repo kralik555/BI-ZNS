{
 "cells": [
  {
   "cell_type": "code",
   "execution_count": 1,
   "id": "61327a7a-3bcd-4fc5-bb1f-2b1ed62667f2",
   "metadata": {},
   "outputs": [],
   "source": [
    "import pandas as pd\n",
    "import sklearn\n",
    "from sklearn.cluster import KMeans"
   ]
  },
  {
   "cell_type": "code",
   "execution_count": 7,
   "id": "01a3f64c-6e9f-4f61-84cc-d0100c637351",
   "metadata": {},
   "outputs": [],
   "source": [
    "def extract_rules(file_path):\n",
    "    rules = []\n",
    "\n",
    "    with open(file_path, 'r') as file:\n",
    "        for line in file:\n",
    "            if '=>' in line:\n",
    "                # Rozdělení pravidla na podmínky a výsledek\n",
    "                conditions, result = line.strip().split('=>')\n",
    "                # Odstranění závorek a rozdělení podmínek\n",
    "                conditions = conditions.strip()[1:-1].split('&')\n",
    "                conditions = [c.replace(\"(\", \"\") for c in conditions]\n",
    "                conditions = [c.replace(\")\", \"\") for c in conditions]\n",
    "                # Uložení do strukturované formy\n",
    "                rule = {'conditions': conditions, 'result': result.strip()}\n",
    "                rules.append(rule)\n",
    "\n",
    "    return rules"
   ]
  },
  {
   "cell_type": "code",
   "execution_count": 8,
   "id": "4892ab4a-345a-4749-bc2c-a3e66f0fae5d",
   "metadata": {},
   "outputs": [],
   "source": [
    "rules = extract_rules('data_1.txt')"
   ]
  },
  {
   "cell_type": "code",
   "execution_count": 9,
   "id": "97233c43-da67-4d41-b2e1-5ca4a3f8be1e",
   "metadata": {},
   "outputs": [
    {
     "name": "stdout",
     "output_type": "stream",
     "text": [
      "[{'conditions': ['blood_sugar=0', 'angina=0.0', 'thal=3.0', 'sex=0', 'pain_type=3.0'], 'result': '(disease=1[23]) 23'}, {'conditions': ['blood_sugar=0', 'angina=0.0', 'thal=3.0', 'no._of_vessels=0', 'sex=0', 'electrocardiograph=0.0'], 'result': '(disease=1[22]) 22'}, {'conditions': ['blood_sugar=0', 'angina=0.0', 'thal=3.0', 'slope_ST=1', 'electrocardiograph=0.0', 'sex=0'], 'result': '(disease=1[21]) 21'}, {'conditions': ['blood_sugar=0', 'sex=1', 'pain_type=4.0', 'thal=7.0', 'angina=1.0', 'slope_ST=2', 'electrocardiograph=2.0'], 'result': '(disease=2[13]) 13'}, {'conditions': ['blood_sugar=0', 'sex=1', 'pain_type=4.0', 'angina=1.0', 'electrocardiograph=2.0', 'no._of_vessels=1'], 'result': '(disease=2[12]) 12'}]\n"
     ]
    }
   ],
   "source": [
    "print(rules[:5])"
   ]
  },
  {
   "cell_type": "code",
   "execution_count": null,
   "id": "c0f84669-a3c0-425c-a254-e5f9f4e17ec3",
   "metadata": {},
   "outputs": [],
   "source": []
  }
 ],
 "metadata": {
  "kernelspec": {
   "display_name": "Python 3 (ipykernel)",
   "language": "python",
   "name": "python3"
  },
  "language_info": {
   "codemirror_mode": {
    "name": "ipython",
    "version": 3
   },
   "file_extension": ".py",
   "mimetype": "text/x-python",
   "name": "python",
   "nbconvert_exporter": "python",
   "pygments_lexer": "ipython3",
   "version": "3.10.12"
  }
 },
 "nbformat": 4,
 "nbformat_minor": 5
}
